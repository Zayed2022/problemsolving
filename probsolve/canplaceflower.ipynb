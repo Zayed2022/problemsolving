{
 "cells": [
  {
   "cell_type": "markdown",
   "metadata": {},
   "source": [
    "**605. Can Place Flowers** <br>\n",
    "Solved <br>\n",
    "Easy <br>\n",
    "Topics <br>\n",
    "Companies <br>\n",
    "You have a long flowerbed in which some of the plots are planted, and some are not. However, flowers cannot be planted in adjacent plots. <br>\n",
    "<br>\n",
    "Given an integer array flowerbed containing 0's and 1's, where 0 means empty and 1 means not empty, and an integer n, return true if n new flowers can be planted in the flowerbed without violating the no-adjacent-flowers rule and false otherwise. <br>\n",
    "<br>\n",
    "Example 1: <br>\n",
    "<br>\n",
    "Input: flowerbed = [1,0,0,0,1], n = 1 <br>\n",
    "Output: true <br>\n",
    "<br>\n",
    "Example 2: <br>\n",
    "<br>\n",
    "Input: flowerbed = [1,0,0,0,1], n = 2 <br>\n",
    "Output: false <br>\n",
    "<br>\n",
    "Constraints: <br>\n",
    "<br>\n",
    "1 <= flowerbed.length <= 2 * 10^4 <br>\n",
    "flowerbed[i] is 0 or 1. <br>\n",
    "There are no two adjacent flowers in flowerbed. <br>\n",
    "0 <= n <= flowerbed.length <br>\n"
   ]
  },
  {
   "cell_type": "code",
   "execution_count": 1,
   "metadata": {},
   "outputs": [
    {
     "name": "stdout",
     "output_type": "stream",
     "text": [
      "True\n"
     ]
    }
   ],
   "source": [
    "def canPlaceFlowers(flowerbed,n):\n",
    "    length=len(flowerbed)\n",
    "    i=0\n",
    "    while i<length and n>0:\n",
    "        if flowerbed[i]==1:\n",
    "            i+=2\n",
    "        elif i==length-1 or flowerbed[i+1]==0:\n",
    "            n-=1\n",
    "            i+=2\n",
    "        else:\n",
    "            i+=3\n",
    "    return n<=0\n",
    "print(canPlaceFlowers([1,0,0,0,1],1))\n"
   ]
  },
  {
   "cell_type": "code",
   "execution_count": 4,
   "metadata": {},
   "outputs": [
    {
     "name": "stdout",
     "output_type": "stream",
     "text": [
      "True\n",
      "True\n"
     ]
    }
   ],
   "source": [
    "def canPlaceFlowers(flowerbed,n):\n",
    "    nf=[0]+flowerbed+[0]\n",
    "    for i in range(1,len(nf)-1):\n",
    "        if nf[i]==0 and nf[i+1]==0 and nf[i-1]==0:\n",
    "            n-=1\n",
    "    return n<=0\n",
    "print(canPlaceFlowers([1,0,0,0,1],1))\n",
    "print(canPlaceFlowers([1,0,0,0,0,0,1],2))\n"
   ]
  }
 ],
 "metadata": {
  "kernelspec": {
   "display_name": "Python 3",
   "language": "python",
   "name": "python3"
  },
  "language_info": {
   "codemirror_mode": {
    "name": "ipython",
    "version": 3
   },
   "file_extension": ".py",
   "mimetype": "text/x-python",
   "name": "python",
   "nbconvert_exporter": "python",
   "pygments_lexer": "ipython3",
   "version": "3.12.2"
  }
 },
 "nbformat": 4,
 "nbformat_minor": 2
}
