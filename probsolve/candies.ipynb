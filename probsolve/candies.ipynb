{
 "cells": [
  {
   "cell_type": "markdown",
   "metadata": {},
   "source": [
    "**1431. Kids With the Greatest Number of Candies** <br>\n",
    "Solved <br>\n",
    "Easy <br>\n",
    "Topics <br>\n",
    "Companies <br>\n",
    "Hint <br>\n",
    "There are n kids with candies. You are given an integer array candies, where each candies[i] represents the number of candies the ith kid has, and an integer extraCandies, denoting the number of extra candies that you have. <br>\n",
    "<br>\n",
    "Return a boolean array result of length n, where result[i] is true if, after giving the ith kid all the extraCandies, they will have the greatest number of candies among all the kids, or false otherwise. <br>\n",
    "<br>\n",
    "Note that multiple kids can have the greatest number of candies. <br>\n",
    "<br>\n",
    "Example 1: <br>\n",
    "<br>\n",
    "Input: candies = [2,3,5,1,3], extraCandies = 3 <br>\n",
    "Output: [true,true,true,false,true] <br>\n",
    "Explanation: If you give all extraCandies to: <br>\n",
    "- Kid 1, they will have 2 + 3 = 5 candies, which is the greatest among the kids. <br>\n",
    "- Kid 2, they will have 3 + 3 = 6 candies, which is the greatest among the kids. <br>\n",
    "- Kid 3, they will have 5 + 3 = 8 candies, which is the greatest among the kids. <br>\n",
    "- Kid 4, they will have 1 + 3 = 4 candies, which is not the greatest among the kids. <br>\n",
    "- Kid 5, they will have 3 + 3 = 6 candies, which is the greatest among the kids. <br>\n",
    "<br>\n",
    "Example 2: <br>\n",
    "<br>\n",
    "Input: candies = [4,2,1,1,2], extraCandies = 1 <br>\n",
    "Output: [true,false,false,false,false] <br>\n",
    "Explanation: There is only 1 extra candy. <br>\n",
    "Kid 1 will always have the greatest number of candies, even if a different kid is given the extra candy. <br>\n",
    "<br>\n",
    "Example 3: <br>\n",
    "<br>\n",
    "Input: candies = [12,1,12], extraCandies = 10 <br>\n",
    "Output: [true,false,true] <br>\n",
    "<br>\n",
    "Constraints: <br>\n",
    "<br>\n",
    "n == candies.length <br>\n",
    "2 <= n <= 100 <br>\n",
    "1 <= candies[i] <= 100 <br>\n",
    "1 <= extraCandies <= 50 <br>\n"
   ]
  },
  {
   "cell_type": "code",
   "execution_count": 3,
   "metadata": {},
   "outputs": [
    {
     "name": "stdout",
     "output_type": "stream",
     "text": [
      "[True, True, True, False, True]\n"
     ]
    }
   ],
   "source": [
    "def kidsWithCandies(candies, extraCandies):\n",
    "    res=[False]*len(candies)\n",
    "    m=max(candies)\n",
    "    for i in range(len(candies)):\n",
    "        if candies[i]+extraCandies>=m:\n",
    "            res[i]=True\n",
    "    return res\n",
    "print(kidsWithCandies([2,3,5,1,3],3))"
   ]
  },
  {
   "cell_type": "code",
   "execution_count": null,
   "metadata": {},
   "outputs": [],
   "source": []
  }
 ],
 "metadata": {
  "kernelspec": {
   "display_name": "Python 3",
   "language": "python",
   "name": "python3"
  },
  "language_info": {
   "codemirror_mode": {
    "name": "ipython",
    "version": 3
   },
   "file_extension": ".py",
   "mimetype": "text/x-python",
   "name": "python",
   "nbconvert_exporter": "python",
   "pygments_lexer": "ipython3",
   "version": "3.12.2"
  }
 },
 "nbformat": 4,
 "nbformat_minor": 2
}
