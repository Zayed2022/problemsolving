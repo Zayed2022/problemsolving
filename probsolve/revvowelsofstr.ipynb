{
 "cells": [
  {
   "cell_type": "markdown",
   "metadata": {},
   "source": [
    "**345. Reverse Vowels of a String** <br>\n",
    "Solved <br>\n",
    "Easy <br>\n",
    "Topics <br>\n",
    "Companies <br>\n",
    "Given a string s, reverse only all the vowels in the string and return it. <br>\n",
    "<br>\n",
    "The vowels are 'a', 'e', 'i', 'o', and 'u', and they can appear in both lower and upper cases, more than once. <br>\n",
    "<br>\n",
    "Example 1: <br>\n",
    "<br>\n",
    "Input: s = \"IceCreAm\" <br>\n",
    "Output: \"AceCreIm\" <br>\n",
    "Explanation: <br>\n",
    "The vowels in s are ['I', 'e', 'e', 'A']. On reversing the vowels, s becomes \"AceCreIm\". <br>\n",
    "<br>\n",
    "Example 2: <br>\n",
    "<br>\n",
    "Input: s = \"leetcode\" <br>\n",
    "Output: \"leotcede\" <br>\n",
    "<br>\n",
    "Constraints: <br>\n",
    "<br>\n",
    "1 <= s.length <= 3 * 10^5 <br>\n",
    "s consist of printable ASCII characters <br>\n"
   ]
  },
  {
   "cell_type": "code",
   "execution_count": 1,
   "metadata": {},
   "outputs": [
    {
     "name": "stdout",
     "output_type": "stream",
     "text": [
      "AceCreIm\n"
     ]
    }
   ],
   "source": [
    "def reverseVowels( s: str) -> str:\n",
    "    res=list(s)\n",
    "    i,j=0,len(s)-1\n",
    "    vow=set('aeiouAEIOU')\n",
    "    while i<=j:\n",
    "        if res[i] in vow and res[j] in vow:\n",
    "            res[i],res[j]=res[j],res[i]\n",
    "            i+=1\n",
    "            j-=1\n",
    "        elif res[i] in vow:\n",
    "            j-=1\n",
    "        elif res[j] in vow:\n",
    "            i+=1\n",
    "        else:\n",
    "            i+=1\n",
    "            j-=1\n",
    "    return \"\".join(res)\n",
    "print(reverseVowels(\"IceCreAm\"))\n"
   ]
  }
 ],
 "metadata": {
  "kernelspec": {
   "display_name": "Python 3",
   "language": "python",
   "name": "python3"
  },
  "language_info": {
   "codemirror_mode": {
    "name": "ipython",
    "version": 3
   },
   "file_extension": ".py",
   "mimetype": "text/x-python",
   "name": "python",
   "nbconvert_exporter": "python",
   "pygments_lexer": "ipython3",
   "version": "3.12.2"
  }
 },
 "nbformat": 4,
 "nbformat_minor": 2
}
