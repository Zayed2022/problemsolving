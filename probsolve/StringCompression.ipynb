{
 "cells": [
  {
   "cell_type": "markdown",
   "metadata": {},
   "source": [
    "**443. String Compression** <br>\n",
    "Medium <br>\n",
    "Topics <br>\n",
    "Companies <br>\n",
    "Hint <br>\n",
    "Given an array of characters chars, compress it using the following algorithm: <br>\n",
    "<br>\n",
    "Begin with an empty string s. For each group of consecutive repeating characters in chars: <br>\n",
    "<br>\n",
    "If the group's length is 1, append the character to s. <br>\n",
    "Otherwise, append the character followed by the group's length. <br>\n",
    "The compressed string s should not be returned separately, but instead, be stored in the input character array chars. <br>\n",
    "Note that group lengths that are 10 or longer will be split into multiple characters in chars. <br>\n",
    "<br>\n",
    "After you are done modifying the input array, return the new length of the array. <br>\n",
    "<br>\n",
    "You must write an algorithm that uses only constant extra space. <br>\n",
    "<br>\n",
    "Example 1: <br>\n",
    "<br>\n",
    "Input: chars = [\"a\",\"a\",\"b\",\"b\",\"c\",\"c\",\"c\"] <br>\n",
    "Output: Return 6, and the first 6 characters of the input array should be: [\"a\",\"2\",\"b\",\"2\",\"c\",\"3\"] <br>\n",
    "Explanation: The groups are \"aa\", \"bb\", and \"ccc\". This compresses to \"a2b2c3\". <br>\n",
    "<br>\n",
    "Example 2: <br>\n",
    "<br>\n",
    "Input: chars = [\"a\"] <br>\n",
    "Output: Return 1, and the first character of the input array should be: [\"a\"] <br>\n",
    "Explanation: The only group is \"a\", which remains uncompressed since it's a single character. <br>\n",
    "<br>\n",
    "Example 3: <br>\n",
    "<br>\n",
    "Input: chars = [\"a\",\"b\",\"b\",\"b\",\"b\",\"b\",\"b\",\"b\",\"b\",\"b\",\"b\",\"b\",\"b\"] <br>\n",
    "Output: Return 4, and the first 4 characters of the input array should be: [\"a\",\"b\",\"1\",\"2\"]. <br>\n",
    "Explanation: The groups are \"a\" and \"bbbbbbbbbbbb\". This compresses to \"ab12\". <br>\n",
    "<br>\n",
    "Constraints: <br>\n",
    "<br>\n",
    "1 <= chars.length <= 2000 <br>\n",
    "chars[i] is a lowercase English letter, uppercase English letter, digit, or symbol. <br>"
   ]
  },
  {
   "cell_type": "code",
   "execution_count": 1,
   "metadata": {},
   "outputs": [
    {
     "name": "stdout",
     "output_type": "stream",
     "text": [
      "4\n"
     ]
    }
   ],
   "source": [
    "from collections import Counter\n",
    "def compress( chars) -> int:\n",
    "    write = 0\n",
    "    read = 0\n",
    "    n = len(chars)\n",
    "    \n",
    "    while read < n:\n",
    "        char = chars[read]\n",
    "        count = 0\n",
    "        \n",
    "        # Count the number of occurrences of the current character\n",
    "        while read < n and chars[read] == char:\n",
    "            read += 1\n",
    "            count += 1\n",
    "        \n",
    "        # Write the character\n",
    "        chars[write] = char\n",
    "        write += 1\n",
    "        \n",
    "        # If the count is greater than 1, write the count as characters\n",
    "        if count > 1:\n",
    "            for c in str(count):\n",
    "                chars[write] = c\n",
    "                write += 1\n",
    "    \n",
    "    # Return the new length of the compressed array\n",
    "    return write\n",
    "print(compress([\"a\",\"b\",\"b\",\"b\",\"b\",\"b\",\"b\",\"b\",\"b\",\"b\",\"b\",\"b\",\"b\"]))"
   ]
  }
 ],
 "metadata": {
  "kernelspec": {
   "display_name": "Python 3",
   "language": "python",
   "name": "python3"
  },
  "language_info": {
   "codemirror_mode": {
    "name": "ipython",
    "version": 3
   },
   "file_extension": ".py",
   "mimetype": "text/x-python",
   "name": "python",
   "nbconvert_exporter": "python",
   "pygments_lexer": "ipython3",
   "version": "3.12.2"
  }
 },
 "nbformat": 4,
 "nbformat_minor": 2
}
