{
 "cells": [
  {
   "cell_type": "markdown",
   "metadata": {},
   "source": [
    "**643. Maximum Average Subarray I** <br>\n",
    "You are given an integer array nums consisting of n elements, and an integer k. <br>\n",
    "<br>\n",
    "Find a contiguous subarray whose length is equal to k that has the maximum average value and return this value. Any answer with a calculation error less than 10^-5 will be accepted. <br>\n",
    "<br>\n",
    "Example 1: <br>\n",
    "<br>\n",
    "Input: nums = [1,12,-5,-6,50,3], k = 4 <br>\n",
    "Output: 12.75000 <br>\n",
    "Explanation: Maximum average is (12 - 5 - 6 + 50) / 4 = 51 / 4 = 12.75 <br>\n",
    "<br>\n",
    "Example 2: <br>\n",
    "<br>\n",
    "Input: nums = [5], k = 1 <br>\n",
    "Output: 5.00000 <br>\n",
    "<br>\n",
    "Constraints: <br>\n",
    "<br>\n",
    "n == nums.length <br>\n",
    "1 <= k <= n <= 10^5 <br>\n",
    "-10^4 <= nums[i] <= 10^4 <br>\n"
   ]
  },
  {
   "cell_type": "code",
   "execution_count": 1,
   "metadata": {},
   "outputs": [
    {
     "name": "stdout",
     "output_type": "stream",
     "text": [
      "12.75\n"
     ]
    }
   ],
   "source": [
    "def findMaxAverage(nums,k):\n",
    "    cs=sum(nums[:k])\n",
    "    ms=cs\n",
    "    for i in range(k,len(nums)):\n",
    "        cs=cs+nums[i]-nums[i-k]\n",
    "        ms=max(ms,cs)\n",
    "    return ms/k\n",
    "print(findMaxAverage([1,12,-5,-6,50,3],4))"
   ]
  }
 ],
 "metadata": {
  "kernelspec": {
   "display_name": "Python 3",
   "language": "python",
   "name": "python3"
  },
  "language_info": {
   "codemirror_mode": {
    "name": "ipython",
    "version": 3
   },
   "file_extension": ".py",
   "mimetype": "text/x-python",
   "name": "python",
   "nbconvert_exporter": "python",
   "pygments_lexer": "ipython3",
   "version": "3.12.2"
  }
 },
 "nbformat": 4,
 "nbformat_minor": 2
}
