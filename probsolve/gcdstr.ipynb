{
 "cells": [
  {
   "cell_type": "markdown",
   "metadata": {},
   "source": [
    "**1071. Greatest Common Divisor of Strings** <br>\n",
    "Solved <br>\n",
    "Easy <br>\n",
    "Topics <br>\n",
    "Companies <br>\n",
    "Hint <br>\n",
    "For two strings s and t, we say \"t divides s\" if and only if s = t + t + t + ... + t + t (i.e., t is concatenated with itself one or more times). <br>\n",
    "<br>\n",
    "Given two strings str1 and str2, return the largest string x such that x divides both str1 and str2. <br>\n",
    "<br>\n",
    "Example 1: <br>\n",
    "<br>\n",
    "Input: str1 = \"ABCABC\", str2 = \"ABC\" <br>\n",
    "Output: \"ABC\" <br>\n",
    "<br>\n",
    "Example 2: <br>\n",
    "<br>\n",
    "Input: str1 = \"ABABAB\", str2 = \"ABAB\" <br>\n",
    "Output: \"AB\" <br>\n",
    "<br>\n",
    "Example 3: <br>\n",
    "<br>\n",
    "Input: str1 = \"LEET\", str2 = \"CODE\" <br>\n",
    "Output: \"\" <br>\n",
    "<br>\n",
    "Constraints: <br>\n",
    "<br>\n",
    "1 <= str1.length, str2.length <= 1000 <br>\n",
    "str1 and str2 consist of English uppercase letters. <br>\n"
   ]
  },
  {
   "cell_type": "code",
   "execution_count": 1,
   "metadata": {},
   "outputs": [
    {
     "name": "stdout",
     "output_type": "stream",
     "text": [
      "AB\n"
     ]
    }
   ],
   "source": [
    "import math\n",
    "def gcdOfStrings(str1: str, str2: str) -> str:\n",
    "    # Helper function to check if a string divides another\n",
    "    def divides(s, t):\n",
    "        return s == t * (len(s) // len(t))\n",
    "    \n",
    "    # Find GCD of the lengths of the two strings\n",
    "    gcd_length = math.gcd(len(str1), len(str2))\n",
    "    \n",
    "    # Check if the substring of gcd_length divides both strings\n",
    "    candidate = str1[:gcd_length]\n",
    "    if divides(str1, candidate) and divides(str2, candidate):\n",
    "        return candidate\n",
    "    else:\n",
    "        return \"\"\n",
    "print(gcdOfStrings(\"ABABAB\",\"AB\"))"
   ]
  }
 ],
 "metadata": {
  "kernelspec": {
   "display_name": "Python 3",
   "language": "python",
   "name": "python3"
  },
  "language_info": {
   "codemirror_mode": {
    "name": "ipython",
    "version": 3
   },
   "file_extension": ".py",
   "mimetype": "text/x-python",
   "name": "python",
   "nbconvert_exporter": "python",
   "pygments_lexer": "ipython3",
   "version": "3.12.2"
  }
 },
 "nbformat": 4,
 "nbformat_minor": 2
}
