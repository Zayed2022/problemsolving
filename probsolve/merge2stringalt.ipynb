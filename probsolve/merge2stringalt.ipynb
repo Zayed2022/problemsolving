{
 "cells": [
  {
   "cell_type": "markdown",
   "metadata": {},
   "source": [
    "**1768. Merge Strings Alternately** <br>\n",
    "Solved <br>\n",
    "Easy <br>\n",
    "Topics <br>\n",
    "Companies <br>\n",
    "Hint <br>\n",
    "You are given two strings word1 and word2. Merge the strings by adding letters in alternating order, starting with word1. If a string is longer than the other, append the additional letters onto the end of the merged string. <br>\n",
    "<br>\n",
    "Return the merged string. <br>\n",
    "<br>\n",
    "**Example 1:** <br>\n",
    "<br>\n",
    "Input: word1 = \"abc\", word2 = \"pqr\" <br>\n",
    "Output: \"apbqcr\" <br>\n",
    "Explanation: The merged string will be merged as so: <br>\n",
    "word1:  a   b   c <br>\n",
    "word2:    p   q   r <br>\n",
    "merged: a p b q c r <br>\n",
    "<br>\n",
    "**Example 2:** <br>\n",
    "<br>\n",
    "Input: word1 = \"ab\", word2 = \"pqrs\" <br>\n",
    "Output: \"apbqrs\" <br>\n",
    "Explanation: Notice that as word2 is longer, \"rs\" is appended to the end. <br>\n",
    "word1:  a   b  <br>\n",
    "word2:    p   q   r   s <br>\n",
    "merged: a p b q   r   s <br>\n",
    "<br>\n",
    "**Example 3:** <br>\n",
    "<br>\n",
    "Input: word1 = \"abcd\", word2 = \"pq\" <br>\n",
    "Output: \"apbqcd\" <br>\n",
    "Explanation: Notice that as word1 is longer, \"cd\" is appended to the end. <br>\n",
    "word1:  a   b   c   d <br>\n",
    "word2:    p   q  <br>\n",
    "merged: a p b q c   d <br>\n",
    "<br>\n",
    "**Constraints:** <br>\n",
    "<br>\n",
    "1 <= word1.length, word2.length <= 100 <br>\n",
    "word1 and word2 consist of lowercase English letters <br>\n"
   ]
  },
  {
   "cell_type": "code",
   "execution_count": 1,
   "metadata": {},
   "outputs": [
    {
     "name": "stdout",
     "output_type": "stream",
     "text": [
      "apbqcrst\n"
     ]
    }
   ],
   "source": [
    "def mergeAlternately(word1, word2):\n",
    "    i=0\n",
    "    j=0\n",
    "    res=[]\n",
    "    while(i<len(word1) or j<len(word2)):\n",
    "        if i<len(word1):\n",
    "            res.append(word1[i])\n",
    "            i+=1\n",
    "        if j<len(word2):\n",
    "            res.append(word2[j])\n",
    "            j+=1\n",
    "    return \"\".join(res)\n",
    "print(mergeAlternately(\"abc\",\"pqrst\"))"
   ]
  }
 ],
 "metadata": {
  "kernelspec": {
   "display_name": "Python 3",
   "language": "python",
   "name": "python3"
  },
  "language_info": {
   "codemirror_mode": {
    "name": "ipython",
    "version": 3
   },
   "file_extension": ".py",
   "mimetype": "text/x-python",
   "name": "python",
   "nbconvert_exporter": "python",
   "pygments_lexer": "ipython3",
   "version": "3.12.2"
  }
 },
 "nbformat": 4,
 "nbformat_minor": 2
}
