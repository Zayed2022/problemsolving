{
 "cells": [
  {
   "cell_type": "markdown",
   "metadata": {},
   "source": [
    "**392. Is Subsequence** <br>\n",
    "Given two strings s and t, return true if s is a subsequence of t, or false otherwise. <br>\n",
    "<br>\n",
    "A subsequence of a string is a new string that is formed from the original string by deleting some (can be none) of the characters without disturbing the relative positions of the remaining characters. (i.e., \"ace\" is a subsequence of \"abcde\" while \"aec\" is not). <br>\n",
    "<br>\n",
    "Example 1: <br>\n",
    "<br>\n",
    "Input: s = \"abc\", t = \"ahbgdc\" <br>\n",
    "Output: true <br>\n",
    "<br>\n",
    "Example 2: <br>\n",
    "<br>\n",
    "Input: s = \"axc\", t = \"ahbgdc\" <br>\n",
    "Output: false <br>\n",
    "<br>\n",
    "Constraints: <br>\n",
    "<br>\n",
    "0 <= s.length <= 100 <br>\n",
    "0 <= t.length <= 10^4 <br>\n",
    "s and t consist only of lowercase English letters. <br>"
   ]
  },
  {
   "cell_type": "code",
   "execution_count": 2,
   "metadata": {},
   "outputs": [
    {
     "name": "stdout",
     "output_type": "stream",
     "text": [
      "True\n"
     ]
    }
   ],
   "source": [
    "def isSubsequence(s,t):\n",
    "    sp=tp=0\n",
    "    while sp<len(s) and tp<len(t): \n",
    "        if s[sp]==t[tp]:\n",
    "            sp+=1\n",
    "        tp+=1\n",
    "    return sp==len(s)\n",
    "print(isSubsequence(\"abc\",\"ahbgdc\"))"
   ]
  }
 ],
 "metadata": {
  "kernelspec": {
   "display_name": "Python 3",
   "language": "python",
   "name": "python3"
  },
  "language_info": {
   "codemirror_mode": {
    "name": "ipython",
    "version": 3
   },
   "file_extension": ".py",
   "mimetype": "text/x-python",
   "name": "python",
   "nbconvert_exporter": "python",
   "pygments_lexer": "ipython3",
   "version": "3.12.2"
  }
 },
 "nbformat": 4,
 "nbformat_minor": 2
}
