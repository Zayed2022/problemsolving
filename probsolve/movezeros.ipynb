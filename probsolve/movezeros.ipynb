{
 "cells": [
  {
   "cell_type": "markdown",
   "metadata": {},
   "source": [
    "**283. Move Zeroes** <br>\n",
    "Given an integer array nums, move all 0's to the end of it while maintaining the relative order of the non-zero elements. <br>\n",
    "<br>\n",
    "Note that you must do this in-place without making a copy of the array. <br>\n",
    "<br>\n",
    "Example 1: <br>\n",
    "<br>\n",
    "Input: nums = [0,1,0,3,12] <br>\n",
    "Output: [1,3,12,0,0] <br>\n",
    "<br>\n",
    "Example 2: <br>\n",
    "<br>\n",
    "Input: nums = [0] <br>\n",
    "Output: [0] <br>\n",
    "<br>\n",
    "Constraints: <br>\n",
    "<br>\n",
    "1 <= nums.length <= 10^4 <br>\n",
    "-2^31 <= nums[i] <= 2^31 - 1 <br>\n"
   ]
  },
  {
   "cell_type": "code",
   "execution_count": 1,
   "metadata": {},
   "outputs": [
    {
     "name": "stdout",
     "output_type": "stream",
     "text": [
      "[1, 3, 9, 0, 0, 0]\n"
     ]
    }
   ],
   "source": [
    "def moveZeroes( nums) -> None:\n",
    "    #non zero index\n",
    "    nzi=0\n",
    "    #first put all non zero elements front\n",
    "    for i in range(len(nums)):\n",
    "        if nums[i]!=0:\n",
    "            nums[nzi]=nums[i]\n",
    "            nzi+=1\n",
    "    #fill zeros aat last\n",
    "    for i in range(nzi,len(nums)):\n",
    "        nums[i]=0\n",
    "    return nums\n",
    "print(moveZeroes([0,1,0,3,0,9]))\n"
   ]
  }
 ],
 "metadata": {
  "kernelspec": {
   "display_name": "Python 3",
   "language": "python",
   "name": "python3"
  },
  "language_info": {
   "codemirror_mode": {
    "name": "ipython",
    "version": 3
   },
   "file_extension": ".py",
   "mimetype": "text/x-python",
   "name": "python",
   "nbconvert_exporter": "python",
   "pygments_lexer": "ipython3",
   "version": "3.12.2"
  }
 },
 "nbformat": 4,
 "nbformat_minor": 2
}
