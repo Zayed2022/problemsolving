{
 "cells": [
  {
   "cell_type": "markdown",
   "metadata": {},
   "source": [
    "**238. Product of Array Except Self** <br>\n",
    "Medium <br>\n",
    "Topics <br>\n",
    "Companies <br>\n",
    "Hint <br>\n",
    "Given an integer array nums, return an array answer such that answer[i] is equal to the product of all the elements of nums except nums[i]. <br>\n",
    "<br>\n",
    "The product of any prefix or suffix of nums is guaranteed to fit in a 32-bit integer. <br>\n",
    "<br>\n",
    "You must write an algorithm that runs in O(n) time and without using the division operation. <br>\n",
    "<br>\n",
    "Example 1: <br>\n",
    "<br>\n",
    "Input: nums = [1,2,3,4] <br>\n",
    "Output: [24,12,8,6] <br>\n",
    "<br>\n",
    "Example 2: <br>\n",
    "<br>\n",
    "Input: nums = [-1,1,0,-3,3] <br>\n",
    "Output: [0,0,9,0,0] <br>\n",
    "<br>\n",
    "Constraints: <br>\n",
    "<br>\n",
    "2 <= nums.length <= 10^5 <br>\n",
    "-30 <= nums[i] <= 30 <br>\n",
    "The product of any prefix or suffix of nums is guaranteed to fit in a 32-bit integer. <br>\n",
    "<br>\n",
    "Follow up: Can you solve the problem in O(1) extra space complexity? (The output array does not count as extra space for space complexity analysis.) <br>\n",
    "<br>\n",
    "Seen this question in a real interview before? <br>\n"
   ]
  },
  {
   "cell_type": "code",
   "execution_count": 1,
   "metadata": {},
   "outputs": [
    {
     "name": "stdout",
     "output_type": "stream",
     "text": [
      "[24, 12, 8, 6]\n"
     ]
    }
   ],
   "source": [
    "def productExceptSelf(nums: list[int]) -> list[int]:\n",
    "    n = len(nums)\n",
    "    answer = [1] * n\n",
    "    \n",
    "    # Compute the product of all elements to the left of each element\n",
    "    left_product = 1\n",
    "    for i in range(n):\n",
    "        answer[i] = left_product\n",
    "        left_product *= nums[i]\n",
    "    \n",
    "    # Compute the product of all elements to the right of each element\n",
    "    # and multiply it with the left product stored in answer\n",
    "    right_product = 1\n",
    "    for i in range(n-1, -1, -1):\n",
    "        answer[i] *= right_product\n",
    "        right_product *= nums[i]\n",
    "    \n",
    "    return answer\n",
    "print(productExceptSelf([1,2,3,4]))"
   ]
  }
 ],
 "metadata": {
  "kernelspec": {
   "display_name": "Python 3",
   "language": "python",
   "name": "python3"
  },
  "language_info": {
   "codemirror_mode": {
    "name": "ipython",
    "version": 3
   },
   "file_extension": ".py",
   "mimetype": "text/x-python",
   "name": "python",
   "nbconvert_exporter": "python",
   "pygments_lexer": "ipython3",
   "version": "3.12.2"
  }
 },
 "nbformat": 4,
 "nbformat_minor": 2
}
