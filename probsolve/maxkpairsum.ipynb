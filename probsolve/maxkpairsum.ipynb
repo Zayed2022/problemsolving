{
 "cells": [
  {
   "cell_type": "markdown",
   "metadata": {},
   "source": [
    "**1679. Max Number of K-Sum Pairs** <br>\n",
    "You are given an integer array nums and an integer k. <br>\n",
    "<br>\n",
    "In one operation, you can pick two numbers from the array whose sum equals k and remove them from the array. <br>\n",
    "<br>\n",
    "Return the maximum number of operations you can perform on the array. <br>\n",
    "<br>\n",
    "Example 1: <br>\n",
    "<br>\n",
    "Input: nums = [1,2,3,4], k = 5 <br>\n",
    "Output: 2 <br>\n",
    "Explanation: Starting with nums = [1,2,3,4]: <br>\n",
    "- Remove numbers 1 and 4, then nums = [2,3] <br>\n",
    "- Remove numbers 2 and 3, then nums = [] <br>\n",
    "There are no more pairs that sum up to 5, hence a total of 2 operations. <br>\n",
    "<br>\n",
    "Example 2: <br>\n",
    "<br>\n",
    "Input: nums = [3,1,3,4,3], k = 6 <br>\n",
    "Output: 1 <br>\n",
    "Explanation: Starting with nums = [3,1,3,4,3]: <br>\n",
    "- Remove the first two 3's, then nums = [1,4,3] <br>\n",
    "There are no more pairs that sum up to 6, hence a total of 1 operation. <br>\n",
    "<br>\n",
    "Constraints: <br>\n",
    "<br>\n",
    "1 <= nums.length <= 10^5 <br>\n",
    "1 <= nums[i] <= 10^9 <br>\n",
    "1 <= k <= 10^9 <br>\n"
   ]
  },
  {
   "cell_type": "code",
   "execution_count": 1,
   "metadata": {},
   "outputs": [
    {
     "name": "stdout",
     "output_type": "stream",
     "text": [
      "2\n"
     ]
    }
   ],
   "source": [
    "def maxOperations( nums, k) -> int:\n",
    "    i=0\n",
    "    j=len(nums)-1\n",
    "    c=0\n",
    "    nums.sort()\n",
    "    while i<j:\n",
    "        if nums[i]+nums[j]==k:\n",
    "            c+=1\n",
    "            i+=1\n",
    "            j-=1\n",
    "        if nums[i]+nums[j]>k:\n",
    "            j-=1\n",
    "        if nums[i]+nums[j]<k:\n",
    "            i+=1\n",
    "    return c\n",
    "print(maxOperations([1,2,3,4],5))"
   ]
  }
 ],
 "metadata": {
  "kernelspec": {
   "display_name": "Python 3",
   "language": "python",
   "name": "python3"
  },
  "language_info": {
   "codemirror_mode": {
    "name": "ipython",
    "version": 3
   },
   "file_extension": ".py",
   "mimetype": "text/x-python",
   "name": "python",
   "nbconvert_exporter": "python",
   "pygments_lexer": "ipython3",
   "version": "3.12.2"
  }
 },
 "nbformat": 4,
 "nbformat_minor": 2
}
