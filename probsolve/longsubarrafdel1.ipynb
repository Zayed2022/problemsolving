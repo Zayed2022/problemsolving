{
 "cells": [
  {
   "cell_type": "code",
   "execution_count": null,
   "metadata": {},
   "outputs": [],
   "source": [
    "**1493. Longest Subarray of 1's After Deleting One Element** <br>\n",
    "Given a binary array `nums`, delete one element from it. <br>\n",
    "Return the size of the longest non-empty subarray containing only `1`s in the resulting array. <br>\n",
    "Return `0` if there is no such subarray. <br>\n",
    "\n",
    "<br>\n",
    "**Example 1:** <br>\n",
    "\n",
    "Input: `nums = [1,1,0,1]` <br>\n",
    "Output: `3` <br>\n",
    "Explanation: After deleting the number in position 2, `[1,1,1]` contains `3` numbers with value `1`s. <br>\n",
    "\n",
    "<br>\n",
    "**Example 2:** <br>\n",
    "\n",
    "Input: `nums = [0,1,1,1,0,1,1,0,1]` <br>\n",
    "Output: `5` <br>\n",
    "Explanation: After deleting the number in position 4, `[0,1,1,1,1,1,0,1]` longest subarray with value `1`s is `[1,1,1,1,1]`. <br>\n",
    "\n",
    "<br>\n",
    "**Example 3:** <br>\n",
    "\n",
    "Input: `nums = [1,1,1]` <br>\n",
    "Output: `2` <br>\n",
    "Explanation: You must delete one element. <br>\n",
    "\n",
    "<br>\n",
    "**Constraints:** <br>\n",
    "\n",
    "1 <= `nums.length` <= 10^5 <br>\n",
    "`nums[i]` is either `0` or `1`. <br>\n"
   ]
  },
  {
   "cell_type": "code",
   "execution_count": 1,
   "metadata": {},
   "outputs": [
    {
     "name": "stdout",
     "output_type": "stream",
     "text": [
      "5\n"
     ]
    }
   ],
   "source": [
    "def longestSubarray(nums):\n",
    "    left = 0\n",
    "    max_length = 0\n",
    "    zeros_count = 0\n",
    "\n",
    "    for right in range(len(nums)):\n",
    "        if nums[right] == 0:\n",
    "            zeros_count += 1\n",
    "\n",
    "        while zeros_count > 1:\n",
    "            if nums[left] == 0:\n",
    "                zeros_count -= 1\n",
    "            left += 1\n",
    "\n",
    "        max_length = max(max_length, right - left)\n",
    "\n",
    "    return max_length\n",
    "print(longestSubarray([0,1,1,1,0,1,1,0,1]))"
   ]
  }
 ],
 "metadata": {
  "kernelspec": {
   "display_name": "Python 3",
   "language": "python",
   "name": "python3"
  },
  "language_info": {
   "codemirror_mode": {
    "name": "ipython",
    "version": 3
   },
   "file_extension": ".py",
   "mimetype": "text/x-python",
   "name": "python",
   "nbconvert_exporter": "python",
   "pygments_lexer": "ipython3",
   "version": "3.12.2"
  }
 },
 "nbformat": 4,
 "nbformat_minor": 2
}
