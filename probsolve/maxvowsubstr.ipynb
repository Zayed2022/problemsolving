{
 "cells": [
  {
   "cell_type": "markdown",
   "metadata": {},
   "source": [
    "**1456. Maximum Number of Vowels in a Substring of Given Length** <br>\n",
    "Given a string s and an integer k, return the maximum number of vowel letters in any substring of s with length k. <br>\n",
    "<br>\n",
    "Vowel letters in English are 'a', 'e', 'i', 'o', and 'u'. <br>\n",
    "<br>\n",
    "Example 1: <br>\n",
    "<br>\n",
    "Input: s = \"abciiidef\", k = 3 <br>\n",
    "Output: 3 <br>\n",
    "Explanation: The substring \"iii\" contains 3 vowel letters. <br>\n",
    "<br>\n",
    "Example 2: <br>\n",
    "<br>\n",
    "Input: s = \"aeiou\", k = 2 <br>\n",
    "Output: 2 <br>\n",
    "Explanation: Any substring of length 2 contains 2 vowels. <br>\n",
    "<br>\n",
    "Example 3: <br>\n",
    "<br>\n",
    "Input: s = \"leetcode\", k = 3 <br>\n",
    "Output: 2 <br>\n",
    "Explanation: \"lee\", \"eet\" and \"ode\" contain 2 vowels. <br>\n",
    "<br>\n",
    "Constraints: <br>\n",
    "<br>\n",
    "1 <= s.length <= 10^5 <br>\n",
    "s consists of lowercase English letters. <br>\n",
    "1 <= k <= s.length <br>\n"
   ]
  },
  {
   "cell_type": "code",
   "execution_count": 3,
   "metadata": {},
   "outputs": [
    {
     "name": "stdout",
     "output_type": "stream",
     "text": [
      "3\n"
     ]
    }
   ],
   "source": [
    "def maxVowels( s: str, k: int) -> int:\n",
    "    # Helper function to check if a character is a vowel\n",
    "    def is_vowel(ch):\n",
    "        return ch in \"aeiou\"\n",
    "    \n",
    "    # Initialize the number of vowels in the first window\n",
    "    current_vowels = sum(1 for i in range(k) if is_vowel(s[i]))\n",
    "    max_vowels = current_vowels\n",
    "    \n",
    "    # Slide the window over the rest of the string\n",
    "    for i in range(k, len(s)):\n",
    "        # Add the new character at the end of the window\n",
    "        if is_vowel(s[i]):\n",
    "            current_vowels += 1\n",
    "        # Remove the character that leaves the window\n",
    "        if is_vowel(s[i - k]):\n",
    "            current_vowels -= 1\n",
    "        # Update the maximum number of vowels found\n",
    "        max_vowels = max(max_vowels, current_vowels)\n",
    "    \n",
    "    return max_vowels\n",
    "print(maxVowels(\"abciiidef\",3))\n"
   ]
  }
 ],
 "metadata": {
  "kernelspec": {
   "display_name": "Python 3",
   "language": "python",
   "name": "python3"
  },
  "language_info": {
   "codemirror_mode": {
    "name": "ipython",
    "version": 3
   },
   "file_extension": ".py",
   "mimetype": "text/x-python",
   "name": "python",
   "nbconvert_exporter": "python",
   "pygments_lexer": "ipython3",
   "version": "3.12.2"
  }
 },
 "nbformat": 4,
 "nbformat_minor": 2
}
