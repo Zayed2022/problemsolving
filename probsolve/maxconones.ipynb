{
 "cells": [
  {
   "cell_type": "markdown",
   "metadata": {},
   "source": [
    "**1004. Max Consecutive Ones III** <br>\n",
    "Given a binary array `nums` and an integer `k`, return the maximum number of consecutive `1`'s in the array if you can flip at most `k` `0`'s. <br>\n",
    "\n",
    "<br>\n",
    "**Example 1:** <br>\n",
    "\n",
    "Input: `nums = [1,1,1,0,0,0,1,1,1,1,0]`, `k = 2` <br>\n",
    "Output: `6` <br>\n",
    "Explanation: `[1,1,1,0,0,1,1,1,1,1,1]` <br>\n",
    "Bolded numbers were flipped from `0` to `1`. The longest subarray is underlined. <br>\n",
    "\n",
    "<br>\n",
    "**Example 2:** <br>\n",
    "\n",
    "Input: `nums = [0,0,1,1,0,0,1,1,1,0,1,1,0,0,0,1,1,1,1]`, `k = 3` <br>\n",
    "Output: `10` <br>\n",
    "Explanation: `[0,0,1,1,1,1,1,1,1,1,1,1,0,0,0,1,1,1,1]` <br>\n",
    "Bolded numbers were flipped from `0` to `1`. The longest subarray is underlined. <br>\n",
    "\n",
    "<br>\n",
    "**Constraints:** <br>\n",
    "\n",
    "1 <= `nums.length` <= 10^5 <br>\n",
    "`nums[i]` is either `0` or `1`. <br>\n",
    "0 <= `k` <= `nums.length` <br>\n"
   ]
  },
  {
   "cell_type": "code",
   "execution_count": 1,
   "metadata": {},
   "outputs": [
    {
     "name": "stdout",
     "output_type": "stream",
     "text": [
      "10\n"
     ]
    }
   ],
   "source": [
    "def longestOnes(nums, k):\n",
    "    left = 0\n",
    "    max_length = 0\n",
    "    zeros_count = 0\n",
    "\n",
    "    for right in range(len(nums)):\n",
    "        # If we encounter a 0, increase the count of zeros in the window\n",
    "        if nums[right] == 0:\n",
    "            zeros_count += 1\n",
    "\n",
    "        # If zeros exceed k, move the left pointer to reduce zeros in the window\n",
    "        while zeros_count > k:\n",
    "            if nums[left] == 0:\n",
    "                zeros_count -= 1\n",
    "            left += 1\n",
    "\n",
    "        # Update the maximum length of the window\n",
    "        max_length = max(max_length, right - left + 1)\n",
    "\n",
    "    return max_length\n",
    "print(longestOnes([0,0,1,1,0,0,1,1,1,0,1,1,0,0,0,1,1,1,1],3))"
   ]
  }
 ],
 "metadata": {
  "kernelspec": {
   "display_name": "Python 3",
   "language": "python",
   "name": "python3"
  },
  "language_info": {
   "codemirror_mode": {
    "name": "ipython",
    "version": 3
   },
   "file_extension": ".py",
   "mimetype": "text/x-python",
   "name": "python",
   "nbconvert_exporter": "python",
   "pygments_lexer": "ipython3",
   "version": "3.12.2"
  }
 },
 "nbformat": 4,
 "nbformat_minor": 2
}
