{
  "nbformat": 4,
  "nbformat_minor": 0,
  "metadata": {
    "colab": {
      "provenance": [],
      "authorship_tag": "ABX9TyOOoqJRbOULMhwW8uIpuUuo"
    },
    "kernelspec": {
      "name": "python3",
      "display_name": "Python 3"
    },
    "language_info": {
      "name": "python"
    }
  },
  "cells": [
    {
      "cell_type": "markdown",
      "source": [
        "**LAMBDA FUNCTIONS**"
      ],
      "metadata": {
        "id": "XBVYlh_b8uJn"
      }
    },
    {
      "cell_type": "code",
      "source": [
        "#Add 10 to a given number:\n",
        "y=lambda x: x + 10\n",
        "print(y(10))"
      ],
      "metadata": {
        "colab": {
          "base_uri": "https://localhost:8080/"
        },
        "id": "FCH8MWTZ80UN",
        "outputId": "b5ddc343-4d0f-4027-b5a0-58c5b5264b2f"
      },
      "execution_count": 1,
      "outputs": [
        {
          "output_type": "stream",
          "name": "stdout",
          "text": [
            "20\n"
          ]
        }
      ]
    },
    {
      "cell_type": "code",
      "source": [
        "#Multiply two numbers:\n",
        "z=lambda x,y : x*y\n",
        "print(z(20,4))"
      ],
      "metadata": {
        "colab": {
          "base_uri": "https://localhost:8080/"
        },
        "id": "PDfKOl979N-M",
        "outputId": "b0545825-b8b8-4e8d-d043-3abcde76aa65"
      },
      "execution_count": 2,
      "outputs": [
        {
          "output_type": "stream",
          "name": "stdout",
          "text": [
            "80\n"
          ]
        }
      ]
    },
    {
      "cell_type": "code",
      "source": [
        "#sum of three\n",
        "a=lambda x,y,z : x+y+z\n",
        "print(a(10,20,30))"
      ],
      "metadata": {
        "colab": {
          "base_uri": "https://localhost:8080/"
        },
        "id": "sUqyCpIj9bIO",
        "outputId": "7e1dd978-306e-4bdf-c724-5df7fd5ce911"
      },
      "execution_count": 3,
      "outputs": [
        {
          "output_type": "stream",
          "name": "stdout",
          "text": [
            "60\n"
          ]
        }
      ]
    },
    {
      "cell_type": "code",
      "source": [
        "#check if num is even\n",
        "a=lambda x:x%2==0\n",
        "print(a(205))"
      ],
      "metadata": {
        "colab": {
          "base_uri": "https://localhost:8080/"
        },
        "id": "b_fzlVol9nT9",
        "outputId": "d7794803-c668-4967-c21b-aaf8fbfd9b34"
      },
      "execution_count": 5,
      "outputs": [
        {
          "output_type": "stream",
          "name": "stdout",
          "text": [
            "False\n"
          ]
        }
      ]
    },
    {
      "cell_type": "code",
      "source": [
        "#filter even nums in list\n",
        "l=[5,4,3,2,1]\n",
        "a=list(filter(lambda x : x%2==0,l))\n",
        "print(a)"
      ],
      "metadata": {
        "colab": {
          "base_uri": "https://localhost:8080/"
        },
        "id": "xStgJL5r98iX",
        "outputId": "8efa9993-afc0-4a6c-e3f3-8d9432995fc6"
      },
      "execution_count": 6,
      "outputs": [
        {
          "output_type": "stream",
          "name": "stdout",
          "text": [
            "[4, 2]\n"
          ]
        }
      ]
    },
    {
      "cell_type": "code",
      "source": [
        "#square a number\n",
        "a=lambda x: x*x\n",
        "a(10)"
      ],
      "metadata": {
        "colab": {
          "base_uri": "https://localhost:8080/"
        },
        "id": "IjwsilZJ-lyh",
        "outputId": "847929f3-8663-4432-ef5f-dd5354d04453"
      },
      "execution_count": 7,
      "outputs": [
        {
          "output_type": "execute_result",
          "data": {
            "text/plain": [
              "100"
            ]
          },
          "metadata": {},
          "execution_count": 7
        }
      ]
    },
    {
      "cell_type": "code",
      "source": [
        "#Sort a list of tuples by the second element:\n",
        "tuples = [(1, 2), (3, 1), (5, 4)]\n",
        "a=sorted(tuples,key=lambda x: x[1])\n",
        "print(a)"
      ],
      "metadata": {
        "colab": {
          "base_uri": "https://localhost:8080/"
        },
        "id": "l5OMaRMp_TP4",
        "outputId": "3e447b3e-e651-44b9-cb4a-d6dbccdb9c45"
      },
      "execution_count": 8,
      "outputs": [
        {
          "output_type": "stream",
          "name": "stdout",
          "text": [
            "[(3, 1), (1, 2), (5, 4)]\n"
          ]
        }
      ]
    },
    {
      "cell_type": "code",
      "source": [
        "#sort dict on key basis\n",
        "d={6:2,4:3,5:1,11:4}\n",
        "t=dict(sorted(d.items()))\n",
        "t"
      ],
      "metadata": {
        "colab": {
          "base_uri": "https://localhost:8080/"
        },
        "id": "qX46xNZg_290",
        "outputId": "99c27dcb-f9c8-47e5-abe3-890a8ba3c51e"
      },
      "execution_count": 12,
      "outputs": [
        {
          "output_type": "execute_result",
          "data": {
            "text/plain": [
              "{4: 3, 5: 1, 6: 2, 11: 4}"
            ]
          },
          "metadata": {},
          "execution_count": 12
        }
      ]
    },
    {
      "cell_type": "code",
      "source": [
        "#sort dict on key basis\n",
        "d={6:2,4:3,5:1,11:4}\n",
        "print(d.items())\n",
        "t=dict(sorted(d.items(),key=lambda x:x))\n",
        "t"
      ],
      "metadata": {
        "colab": {
          "base_uri": "https://localhost:8080/"
        },
        "id": "2TQ3528qAiaY",
        "outputId": "1d7d6dce-ba3c-43d9-ec5b-860d48d380a1"
      },
      "execution_count": 20,
      "outputs": [
        {
          "output_type": "stream",
          "name": "stdout",
          "text": [
            "dict_items([(6, 2), (4, 3), (5, 1), (11, 4)])\n"
          ]
        },
        {
          "output_type": "execute_result",
          "data": {
            "text/plain": [
              "{4: 3, 5: 1, 6: 2, 11: 4}"
            ]
          },
          "metadata": {},
          "execution_count": 20
        }
      ]
    },
    {
      "cell_type": "code",
      "source": [
        "#sort dict on value basis\n",
        "d={6:2,4:3,5:1,11:4}\n",
        "print(d.items())\n",
        "t=dict(sorted(d.items(),key=lambda x:x[1]))\n",
        "t"
      ],
      "metadata": {
        "colab": {
          "base_uri": "https://localhost:8080/"
        },
        "id": "s0mdjbArBd-K",
        "outputId": "d1ed65fe-4c85-4df4-8681-e173ac4f3d9a"
      },
      "execution_count": 21,
      "outputs": [
        {
          "output_type": "stream",
          "name": "stdout",
          "text": [
            "dict_items([(6, 2), (4, 3), (5, 1), (11, 4)])\n"
          ]
        },
        {
          "output_type": "execute_result",
          "data": {
            "text/plain": [
              "{5: 1, 6: 2, 4: 3, 11: 4}"
            ]
          },
          "metadata": {},
          "execution_count": 21
        }
      ]
    },
    {
      "cell_type": "code",
      "source": [
        "#Find the length of a words in sentence add to list:\n",
        "s=\"I am The Batman ,Gotham city protecter\"\n",
        "l=list(map(lambda word: len(word), s.split()))\n",
        "l"
      ],
      "metadata": {
        "colab": {
          "base_uri": "https://localhost:8080/"
        },
        "id": "RfTihUEXCPyl",
        "outputId": "bce0d2d3-c1cb-4314-b715-dc4d96f70a92"
      },
      "execution_count": 28,
      "outputs": [
        {
          "output_type": "execute_result",
          "data": {
            "text/plain": [
              "[1, 2, 3, 6, 7, 4, 9]"
            ]
          },
          "metadata": {},
          "execution_count": 28
        }
      ]
    },
    {
      "cell_type": "code",
      "source": [
        "#Find the length of a words in sentence add to list:\n",
        "s=\"I am The Batman , Gotham city protecter\"\n",
        "l=[len(w) for w in s.split()]\n",
        "l"
      ],
      "metadata": {
        "colab": {
          "base_uri": "https://localhost:8080/"
        },
        "id": "Ig7Sjh5EDCk4",
        "outputId": "88997a4d-f8e6-4140-9f8c-b194714c0634"
      },
      "execution_count": 30,
      "outputs": [
        {
          "output_type": "execute_result",
          "data": {
            "text/plain": [
              "[1, 2, 3, 6, 1, 6, 4, 9]"
            ]
          },
          "metadata": {},
          "execution_count": 30
        }
      ]
    },
    {
      "cell_type": "code",
      "source": [
        "#Convert a list of strings to uppercase:\n",
        "s=\"I am The Batman , Gotham city protecter\"\n",
        "l=list(map(lambda x:x.upper(),s.split()))\n",
        "l"
      ],
      "metadata": {
        "colab": {
          "base_uri": "https://localhost:8080/"
        },
        "id": "Dze5YOteEJzi",
        "outputId": "8e0d2b5a-49df-4cfb-80eb-3310232962e0"
      },
      "execution_count": 32,
      "outputs": [
        {
          "output_type": "execute_result",
          "data": {
            "text/plain": [
              "['I', 'AM', 'THE', 'BATMAN', ',', 'GOTHAM', 'CITY', 'PROTECTER']"
            ]
          },
          "metadata": {},
          "execution_count": 32
        }
      ]
    },
    {
      "cell_type": "code",
      "source": [
        "count_vowels = lambda x: sum(1 for char in x if char in 'aeiou')\n",
        "print(count_vowels(\"hello\"))  # Output: 2\n"
      ],
      "metadata": {
        "colab": {
          "base_uri": "https://localhost:8080/"
        },
        "id": "8ThPHuZZFEx8",
        "outputId": "31550a53-0d4c-4284-b10c-6718ebc52f7c"
      },
      "execution_count": 40,
      "outputs": [
        {
          "output_type": "stream",
          "name": "stdout",
          "text": [
            "2\n"
          ]
        }
      ]
    },
    {
      "cell_type": "code",
      "source": [
        "import math\n",
        "\n",
        "is_prime = lambda m: m > 1 and (m == 2 or (m % 2 != 0 and all(m % i != 0 for i in range(3, int(math.sqrt(m)) + 1, 2))))\n",
        "\n",
        "# Test cases\n",
        "print(is_prime(11))  # Output: True\n",
        "print(is_prime(4))   # Output: False\n",
        "print(is_prime(2))   # Output: True\n",
        "print(is_prime(1))   # Output: False\n"
      ],
      "metadata": {
        "colab": {
          "base_uri": "https://localhost:8080/"
        },
        "id": "scTVMZp6GBP6",
        "outputId": "0089f955-71e0-405d-c49a-36e787cba8cb"
      },
      "execution_count": 46,
      "outputs": [
        {
          "output_type": "stream",
          "name": "stdout",
          "text": [
            "True\n",
            "False\n",
            "True\n",
            "False\n"
          ]
        }
      ]
    },
    {
      "cell_type": "markdown",
      "source": [
        "Sure! Here are some example programs that demonstrate how to use the `filter` and `map` functions in Python:\n",
        "\n",
        "### Using `filter`\n",
        "\n",
        "1. **Filter even numbers from a list:**\n",
        "   ```python\n",
        "   numbers = [1, 2, 3, 4, 5, 6, 7, 8, 9, 10]\n",
        "   even_numbers = list(filter(lambda x: x % 2 == 0, numbers))\n",
        "   print(even_numbers)  # Output: [2, 4, 6, 8, 10]\n",
        "   ```\n",
        "\n",
        "2. **Filter out words longer than 3 characters:**\n",
        "   ```python\n",
        "   words = ['cat', 'dog', 'elephant', 'ant']\n",
        "   short_words = list(filter(lambda x: len(x) <= 3, words))\n",
        "   print(short_words)  # Output: ['cat', 'dog', 'ant']\n",
        "   ```\n",
        "\n",
        "3. **Filter out positive numbers from a list:**\n",
        "   ```python\n",
        "   numbers = [-2, -1, 0, 1, 2, 3]\n",
        "   positive_numbers = list(filter(lambda x: x > 0, numbers))\n",
        "   print(positive_numbers)  # Output: [1, 2, 3]\n",
        "   ```\n",
        "\n",
        "4. **Filter vowels from a string:**\n",
        "   ```python\n",
        "   string = \"Hello World\"\n",
        "   vowels = list(filter(lambda x: x.lower() in 'aeiou', string))\n",
        "   print(vowels)  # Output: ['e', 'o', 'o']\n",
        "   ```\n",
        "\n",
        "5. **Filter out numbers greater than 10:**\n",
        "   ```python\n",
        "   numbers = [5, 8, 12, 16, 20, 3]\n",
        "   numbers_less_than_10 = list(filter(lambda x: x <= 10, numbers))\n",
        "   print(numbers_less_than_10)  # Output: [5, 8, 3]\n",
        "   ```\n",
        "\n",
        "### Using `map`\n",
        "\n",
        "1. **Square all numbers in a list:**\n",
        "   ```python\n",
        "   numbers = [1, 2, 3, 4, 5]\n",
        "   squared_numbers = list(map(lambda x: x ** 2, numbers))\n",
        "   print(squared_numbers)  # Output: [1, 4, 9, 16, 25]\n",
        "   ```\n",
        "\n",
        "2. **Convert a list of strings to uppercase:**\n",
        "   ```python\n",
        "   words = ['hello', 'world']\n",
        "   uppercase_words = list(map(lambda x: x.upper(), words))\n",
        "   print(uppercase_words)  # Output: ['HELLO', 'WORLD']\n",
        "   ```\n",
        "\n",
        "3. **Add 5 to each number in a list:**\n",
        "   ```python\n",
        "   numbers = [1, 2, 3, 4, 5]\n",
        "   incremented_numbers = list(map(lambda x: x + 5, numbers))\n",
        "   print(incremented_numbers)  # Output: [6, 7, 8, 9, 10]\n",
        "   ```\n",
        "\n",
        "4. **Convert a list of numbers to strings:**\n",
        "   ```python\n",
        "   numbers = [1, 2, 3, 4, 5]\n",
        "   string_numbers = list(map(str, numbers))\n",
        "   print(string_numbers)  # Output: ['1', '2', '3', '4', '5']\n",
        "   ```\n",
        "\n",
        "5. **Calculate the length of each word in a list:**\n",
        "   ```python\n",
        "   words = ['cat', 'elephant', 'dog']\n",
        "   lengths = list(map(lambda x: len(x), words))\n",
        "   print(lengths)  # Output: [3, 8, 3]\n",
        "   ```\n",
        "\n",
        "### Combining `filter` and `map`\n",
        "\n",
        "1. **Filter even numbers and then square them:**\n",
        "   ```python\n",
        "   numbers = [1, 2, 3, 4, 5, 6, 7, 8, 9, 10]\n",
        "   even_squares = list(map(lambda x: x ** 2, filter(lambda x: x % 2 == 0, numbers)))\n",
        "   print(even_squares)  # Output: [4, 16, 36, 64, 100]\n",
        "   ```\n",
        "\n",
        "2. **Filter words starting with 'a' and convert them to uppercase:**\n",
        "   ```python\n",
        "   words = ['apple', 'banana', 'avocado', 'cherry']\n",
        "   a_words_upper = list(map(lambda x: x.upper(), filter(lambda x: x.startswith('a'), words)))\n",
        "   print(a_words_upper)  # Output: ['APPLE', 'AVOCADO']\n",
        "   ```\n",
        "\n",
        "3. **Filter negative numbers and find their absolute values:**\n",
        "   ```python\n",
        "   numbers = [-5, -1, 0, 3, -8, 4]\n",
        "   positive_numbers = list(map(lambda x: abs(x), filter(lambda x: x < 0, numbers)))\n",
        "   print(positive_numbers)  # Output: [5, 1, 8]\n",
        "   ```\n",
        "\n"
      ],
      "metadata": {
        "id": "qYCKJP3AKm9E"
      }
    }
  ]
}