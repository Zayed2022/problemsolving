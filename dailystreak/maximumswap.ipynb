{
 "cells": [
  {
   "cell_type": "markdown",
   "metadata": {},
   "source": [
    "**670. Maximum Swap** <br>\n",
    "Solved <br>\n",
    "Medium <br>\n",
    "Topics <br>\n",
    "Companies <br>\n",
    "You are given an integer num. You can swap two digits at most once to get the maximum valued number. <br>\n",
    "<br>\n",
    "Return the maximum valued number you can get. <br>\n",
    "<br>\n",
    "Example 1: <br>\n",
    "<br>\n",
    "Input: num = 2736 <br>\n",
    "Output: 7236 <br>\n",
    "Explanation: Swap the number 2 and the number 7. <br>\n",
    "<br>\n",
    "Example 2: <br>\n",
    "<br>\n",
    "Input: num = 9973 <br>\n",
    "Output: 9973 <br>\n",
    "Explanation: No swap. <br>\n",
    "<br>\n",
    "Constraints: <br>\n",
    "<br>\n",
    "0 <= num <= 10^8 <br>\n"
   ]
  },
  {
   "cell_type": "code",
   "execution_count": 1,
   "metadata": {},
   "outputs": [
    {
     "name": "stdout",
     "output_type": "stream",
     "text": [
      "7236\n"
     ]
    }
   ],
   "source": [
    "def maximumSwap(num: int) -> int:\n",
    "    # Convert the number to a list of characters for easy manipulation\n",
    "    num_list = list(str(num))\n",
    "    # Track the last occurrence of each digit (0-9)\n",
    "    last = {int(d): i for i, d in enumerate(num_list)}\n",
    "    # Traverse the number from left to right\n",
    "    for i, digit in enumerate(num_list):\n",
    "        # Check for a larger digit to swap\n",
    "        for d in range(9, int(digit), -1):\n",
    "            if last.get(d, -1) > i:\n",
    "                # Swap and return the new number\n",
    "                num_list[i], num_list[last[d]] = num_list[last[d]], num_list[i]\n",
    "                return int(''.join(num_list))\n",
    "    # If no swap occurred, return the original number\n",
    "    return num\n",
    "print(maximumSwap(2736))"
   ]
  }
 ],
 "metadata": {
  "kernelspec": {
   "display_name": "Python 3",
   "language": "python",
   "name": "python3"
  },
  "language_info": {
   "codemirror_mode": {
    "name": "ipython",
    "version": 3
   },
   "file_extension": ".py",
   "mimetype": "text/x-python",
   "name": "python",
   "nbconvert_exporter": "python",
   "pygments_lexer": "ipython3",
   "version": "3.12.2"
  }
 },
 "nbformat": 4,
 "nbformat_minor": 2
}
