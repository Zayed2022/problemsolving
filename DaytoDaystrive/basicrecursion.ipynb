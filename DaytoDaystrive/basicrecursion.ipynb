{
 "cells": [
  {
   "cell_type": "code",
   "execution_count": 17,
   "metadata": {},
   "outputs": [
    {
     "name": "stdout",
     "output_type": "stream",
     "text": [
      "1 2 3 4 5 6 7 8 9 10 "
     ]
    }
   ],
   "source": [
    "def print1ton(n):\n",
    "    if n<=0:\n",
    "        return\n",
    "    print1ton(n - 1)\n",
    "    print(n,end=\" \")\n",
    "print1ton(10)"
   ]
  },
  {
   "cell_type": "code",
   "execution_count": 14,
   "metadata": {},
   "outputs": [
    {
     "name": "stdout",
     "output_type": "stream",
     "text": [
      "10 9 8 7 6 5 4 3 2 1 "
     ]
    }
   ],
   "source": [
    "def printnto1(n):\n",
    "    if n<=0:\n",
    "        return\n",
    "    print(n,end=\" \")\n",
    "    printnto1(n - 1)\n",
    "printnto1(10)"
   ]
  },
  {
   "cell_type": "code",
   "execution_count": 16,
   "metadata": {},
   "outputs": [
    {
     "name": "stdout",
     "output_type": "stream",
     "text": [
      "Zayed\n",
      "Zayed\n",
      "Zayed\n",
      "Zayed\n",
      "Zayed\n",
      "Zayed\n",
      "Zayed\n",
      "Zayed\n",
      "Zayed\n",
      "Zayed\n"
     ]
    }
   ],
   "source": [
    "def PrintNameNtimes(i,n):\n",
    "    if i>n:\n",
    "        return\n",
    "    print(\"Zayed\")\n",
    "    PrintNameNtimes(i+1,n)\n",
    "PrintNameNtimes(1,10)"
   ]
  },
  {
   "cell_type": "code",
   "execution_count": 19,
   "metadata": {},
   "outputs": [
    {
     "name": "stdout",
     "output_type": "stream",
     "text": [
      "55\n"
     ]
    }
   ],
   "source": [
    "def sum1ton(n):\n",
    "    if n <= 0:\n",
    "        return 0\n",
    "    s = sum1ton(n - 1)\n",
    "    return s + n\n",
    "\n",
    "result = sum1ton(10)\n",
    "print(result)"
   ]
  },
  {
   "cell_type": "code",
   "execution_count": 6,
   "metadata": {},
   "outputs": [
    {
     "name": "stdout",
     "output_type": "stream",
     "text": [
      "120\n"
     ]
    }
   ],
   "source": [
    "def factorial(n):\n",
    "    if n==1 or n==0:\n",
    "        return 1\n",
    "    return factorial(n - 1)*n\n",
    "print(factorial(5))"
   ]
  },
  {
   "cell_type": "code",
   "execution_count": 12,
   "metadata": {},
   "outputs": [
    {
     "name": "stdout",
     "output_type": "stream",
     "text": [
      "[5, 4, 3, 2, 1]\n"
     ]
    }
   ],
   "source": [
    "def reversearray(arr,start,end):\n",
    "    if start<end:\n",
    "        arr[start],arr[end]=arr[end],arr[start]\n",
    "        reversearray(arr, start + 1, end - 1)\n",
    "    return arr\n",
    "print(reversearray([1,2,3,4,5],0,4))#reversearray(arr,start=0,end=len(arr)-1)"
   ]
  },
  {
   "cell_type": "code",
   "execution_count": 14,
   "metadata": {},
   "outputs": [
    {
     "name": "stdout",
     "output_type": "stream",
     "text": [
      "True\n"
     ]
    }
   ],
   "source": [
    "def palindrome(s,start,end):\n",
    "    if start<end:\n",
    "        if s[start]!=s[end]:\n",
    "            return False\n",
    "        palindrome(s,start+1,end-1)\n",
    "    return True\n",
    "print(palindrome(\"zayaz\",0,4))"
   ]
  },
  {
   "cell_type": "code",
   "execution_count": 18,
   "metadata": {},
   "outputs": [
    {
     "name": "stdout",
     "output_type": "stream",
     "text": [
      "21\n"
     ]
    }
   ],
   "source": [
    "def fibonacci(n):\n",
    "    if n==0 or n==1:\n",
    "        return n\n",
    "    return fibonacci(n-1)+fibonacci(n-2)\n",
    "print(fibonacci(8))"
   ]
  },
  {
   "cell_type": "code",
   "execution_count": null,
   "metadata": {},
   "outputs": [],
   "source": []
  }
 ],
 "metadata": {
  "kernelspec": {
   "display_name": "Python 3",
   "language": "python",
   "name": "python3"
  },
  "language_info": {
   "codemirror_mode": {
    "name": "ipython",
    "version": 3
   },
   "file_extension": ".py",
   "mimetype": "text/x-python",
   "name": "python",
   "nbconvert_exporter": "python",
   "pygments_lexer": "ipython3",
   "version": "3.12.2"
  }
 },
 "nbformat": 4,
 "nbformat_minor": 2
}
